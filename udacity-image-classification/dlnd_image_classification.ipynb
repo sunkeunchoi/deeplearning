{
 "cells": [
  {
   "cell_type": "markdown",
   "metadata": {
    "collapsed": true,
    "deletable": true,
    "editable": true
   },
   "source": [
    "# Image Classification\n",
    "In this project, you'll classify images from the [CIFAR-10 dataset](https://www.cs.toronto.edu/~kriz/cifar.html).  The dataset consists of airplanes, dogs, cats, and other objects. You'll preprocess the images, then train a convolutional neural network on all the samples. The images need to be normalized and the labels need to be one-hot encoded.  You'll get to apply what you learned and build a convolutional, max pooling, dropout, and fully connected layers.  At the end, you'll get to see your neural network's predictions on the sample images.\n",
    "## Get the Data\n",
    "Run the following cell to download the [CIFAR-10 dataset for python](https://www.cs.toronto.edu/~kriz/cifar-10-python.tar.gz)."
   ]
  },
  {
   "cell_type": "code",
   "execution_count": 1,
   "metadata": {
    "collapsed": false,
    "deletable": true,
    "editable": true
   },
   "outputs": [
    {
     "name": "stdout",
     "output_type": "stream",
     "text": [
      "All files found!\n"
     ]
    }
   ],
   "source": [
    "\"\"\"\n",
    "DON'T MODIFY ANYTHING IN THIS CELL THAT IS BELOW THIS LINE\n",
    "\"\"\"\n",
    "from urllib.request import urlretrieve\n",
    "from os.path import isfile, isdir\n",
    "from tqdm import tqdm\n",
    "import problem_unittests as tests\n",
    "import tarfile\n",
    "\n",
    "cifar10_dataset_folder_path = 'cifar-10-batches-py'\n",
    "\n",
    "class DLProgress(tqdm):\n",
    "    last_block = 0\n",
    "\n",
    "    def hook(self, block_num=1, block_size=1, total_size=None):\n",
    "        self.total = total_size\n",
    "        self.update((block_num - self.last_block) * block_size)\n",
    "        self.last_block = block_num\n",
    "\n",
    "if not isfile('cifar-10-python.tar.gz'):\n",
    "    with DLProgress(unit='B', unit_scale=True, miniters=1, desc='CIFAR-10 Dataset') as pbar:\n",
    "        urlretrieve(\n",
    "            'https://www.cs.toronto.edu/~kriz/cifar-10-python.tar.gz',\n",
    "            'cifar-10-python.tar.gz',\n",
    "            pbar.hook)\n",
    "\n",
    "if not isdir(cifar10_dataset_folder_path):\n",
    "    with tarfile.open('cifar-10-python.tar.gz') as tar:\n",
    "        tar.extractall()\n",
    "        tar.close()\n",
    "\n",
    "\n",
    "tests.test_folder_path(cifar10_dataset_folder_path)"
   ]
  },
  {
   "cell_type": "markdown",
   "metadata": {
    "deletable": true,
    "editable": true
   },
   "source": [
    "## Explore the Data\n",
    "The dataset is broken into batches to prevent your machine from running out of memory.  The CIFAR-10 dataset consists of 5 batches, named `data_batch_1`, `data_batch_2`, etc.. Each batch contains the labels and images that are one of the following:\n",
    "* airplane\n",
    "* automobile\n",
    "* bird\n",
    "* cat\n",
    "* deer\n",
    "* dog\n",
    "* frog\n",
    "* horse\n",
    "* ship\n",
    "* truck\n",
    "\n",
    "Understanding a dataset is part of making predictions on the data.  Play around with the code cell below by changing the `batch_id` and `sample_id`. The `batch_id` is the id for a batch (1-5). The `sample_id` is the id for a image and label pair in the batch.\n",
    "\n",
    "Ask yourself \"What are all possible labels?\", \"What is the range of values for the image data?\", \"Are the labels in order or random?\".  Answers to questions like these will help you preprocess the data and end up with better predictions."
   ]
  },
  {
   "cell_type": "code",
   "execution_count": 2,
   "metadata": {
    "collapsed": false,
    "deletable": true,
    "editable": true
   },
   "outputs": [
    {
     "name": "stdout",
     "output_type": "stream",
     "text": [
      "\n",
      "Stats of batch 1:\n",
      "Samples: 10000\n",
      "Label Counts: {0: 1005, 1: 974, 2: 1032, 3: 1016, 4: 999, 5: 937, 6: 1030, 7: 1001, 8: 1025, 9: 981}\n",
      "First 20 Labels: [6, 9, 9, 4, 1, 1, 2, 7, 8, 3, 4, 7, 7, 2, 9, 9, 9, 3, 2, 6]\n",
      "\n",
      "Example of Image 5:\n",
      "Image - Min Value: 0 Max Value: 252\n",
      "Image - Shape: (32, 32, 3)\n",
      "Label - Label Id: 1 Name: automobile\n"
     ]
    },
    {
     "data": {
      "image/png": "[encoded data removed]",
      "text/plain": [
       "<matplotlib.figure.Figure at 0x7fd0a657e400>"
      ]
     },
     "metadata": {
      "image/png": {
       "height": 250,
       "width": 253
      }
     },
     "output_type": "display_data"
    }
   ],
   "source": [
    "%matplotlib inline\n",
    "%config InlineBackend.figure_format = 'retina'\n",
    "\n",
    "import helper\n",
    "import numpy as np\n",
    "\n",
    "# Explore the dataset\n",
    "batch_id = 1\n",
    "sample_id = 5\n",
    "helper.display_stats(cifar10_dataset_folder_path, batch_id, sample_id)"
   ]
  },
  {
   "cell_type": "markdown",
   "metadata": {
    "deletable": true,
    "editable": true
   },
   "source": [
    "## Implement Preprocess Functions\n",
    "### Normalize\n",
    "In the cell below, implement the `normalize` function to take in image data, `x`, and return it as a normalized Numpy array. The values should be in the range of 0 to 1, inclusive.  The return object should be the same shape as `x`."
   ]
  },
  {
   "cell_type": "code",
   "execution_count": 3,
   "metadata": {
    "collapsed": false,
    "deletable": true,
    "editable": true
   },
   "outputs": [
    {
     "name": "stdout",
     "output_type": "stream",
     "text": [
      "Tests Passed\n"
     ]
    }
   ],
   "source": [
    "def normalize(x):\n",
    "    \"\"\"\n",
    "    Normalize a list of sample image data in the range of 0 to 1\n",
    "    : x: List of image data.  The image shape is (32, 32, 3)\n",
    "    : return: Numpy array of normalize data\n",
    "    \"\"\"\n",
    "    # TODO: Implement Function\n",
    "    # x-x_min/x_max-x_min\n",
    "    x_min = 0 \n",
    "    x_max = 255\n",
    "    #return (x - np.min(x))/(np.max(x)-np.min(x))\n",
    "    return (x - x_min)/(x_max - x_min)\n",
    "\n",
    "\n",
    "\"\"\"\n",
    "DON'T MODIFY ANYTHING IN THIS CELL THAT IS BELOW THIS LINE\n",
    "\"\"\"\n",
    "tests.test_normalize(normalize)"
   ]
  },
  {
   "cell_type": "markdown",
   "metadata": {
    "deletable": true,
    "editable": true
   },
   "source": [
    "### One-hot encode\n",
    "Just like the previous code cell, you'll be implementing a function for preprocessing.  This time, you'll implement the `one_hot_encode` function. The input, `x`, are a list of labels.  Implement the function to return the list of labels as One-Hot encoded Numpy array.  The possible values for labels are 0 to 9. The one-hot encoding function should return the same encoding for each value between each call to `one_hot_encode`.  Make sure to save the map of encodings outside the function.\n",
    "\n",
    "Hint: Don't reinvent the wheel."
   ]
  },
  {
   "cell_type": "code",
   "execution_count": 4,
   "metadata": {
    "collapsed": false,
    "deletable": true,
    "editable": true
   },
   "outputs": [
    {
     "name": "stdout",
     "output_type": "stream",
     "text": [
      "Tests Passed\n"
     ]
    }
   ],
   "source": [
    "def one_hot_encode(x):\n",
    "    \"\"\"\n",
    "    One hot encode a list of sample labels. Return a one-hot encoded vector for each label.\n",
    "    : x: List of sample Labels\n",
    "    : return: Numpy array of one-hot encoded labels\n",
    "    \"\"\"\n",
    "    # TODO: Implement Function\n",
    "    return np.eye(10)[x]\n",
    "\n",
    "\n",
    "\"\"\"\n",
    "DON'T MODIFY ANYTHING IN THIS CELL THAT IS BELOW THIS LINE\n",
    "\"\"\"\n",
    "tests.test_one_hot_encode(one_hot_encode)"
   ]
  },
  {
   "cell_type": "markdown",
   "metadata": {
    "deletable": true,
    "editable": true
   },
   "source": [
    "### Randomize Data\n",
    "As you saw from exploring the data above, the order of the samples are randomized.  It doesn't hurt to randomize it again, but you don't need to for this dataset."
   ]
  },
  {
   "cell_type": "markdown",
   "metadata": {
    "deletable": true,
    "editable": true
   },
   "source": [
    "## Preprocess all the data and save it\n",
    "Running the code cell below will preprocess all the CIFAR-10 data and save it to file. The code below also uses 10% of the training data for validation."
   ]
  },
  {
   "cell_type": "code",
   "execution_count": 5,
   "metadata": {
    "collapsed": false,
    "deletable": true,
    "editable": true
   },
   "outputs": [],
   "source": [
    "\"\"\"\n",
    "DON'T MODIFY ANYTHING IN THIS CELL\n",
    "\"\"\"\n",
    "# Preprocess Training, Validation, and Testing Data\n",
    "helper.preprocess_and_save_data(cifar10_dataset_folder_path, normalize, one_hot_encode)"
   ]
  },
  {
   "cell_type": "markdown",
   "metadata": {
    "deletable": true,
    "editable": true
   },
   "source": [
    "# Check Point\n",
    "This is your first checkpoint.  If you ever decide to come back to this notebook or have to restart the notebook, you can start from here.  The preprocessed data has been saved to disk."
   ]
  },
  {
   "cell_type": "code",
   "execution_count": 1,
   "metadata": {
    "collapsed": true,
    "deletable": true,
    "editable": true
   },
   "outputs": [],
   "source": [
    "\"\"\"\n",
    "DON'T MODIFY ANYTHING IN THIS CELL\n",
    "\"\"\"\n",
    "import pickle\n",
    "import problem_unittests as tests\n",
    "import helper\n",
    "\n",
    "# Load the Preprocessed Validation data\n",
    "valid_features, valid_labels = pickle.load(open('preprocess_validation.p', mode='rb'))"
   ]
  },
  {
   "cell_type": "markdown",
   "metadata": {
    "deletable": true,
    "editable": true
   },
   "source": [
    "## Build the network\n",
    "For the neural network, you'll build each layer into a function.  Most of the code you've seen has been outside of functions. To test your code more thoroughly, we require that you put each layer in a function.  This allows us to give you better feedback and test for simple mistakes using our unittests before you submit your project.\n",
    "\n",
    ">**Note:** If you're finding it hard to dedicate enough time for this course each week, we've provided a small shortcut to this part of the project. In the next couple of problems, you'll have the option to use classes from the [TensorFlow Layers](https://www.tensorflow.org/api_docs/python/tf/layers) or [TensorFlow Layers (contrib)](https://www.tensorflow.org/api_guides/python/contrib.layers) packages to build each layer, except the layers you build in the \"Convolutional and Max Pooling Layer\" section.  TF Layers is similar to Keras's and TFLearn's abstraction to layers, so it's easy to pickup.\n",
    "\n",
    ">However, if you would like to get the most out of this course, try to solve all the problems _without_ using anything from the TF Layers packages. You **can** still use classes from other packages that happen to have the same name as ones you find in TF Layers! For example, instead of using the TF Layers version of the `conv2d` class, [tf.layers.conv2d](https://www.tensorflow.org/api_docs/python/tf/layers/conv2d), you would want to use the TF Neural Network version of `conv2d`, [tf.nn.conv2d](https://www.tensorflow.org/api_docs/python/tf/nn/conv2d). \n",
    "\n",
    "Let's begin!\n",
    "\n",
    "### Input\n",
    "The neural network needs to read the image data, one-hot encoded labels, and dropout keep probability. Implement the following functions\n",
    "* Implement `neural_net_image_input`\n",
    " * Return a [TF Placeholder](https://www.tensorflow.org/api_docs/python/tf/placeholder)\n",
    " * Set the shape using `image_shape` with batch size set to `None`.\n",
    " * Name the TensorFlow placeholder \"x\" using the TensorFlow `name` parameter in the [TF Placeholder](https://www.tensorflow.org/api_docs/python/tf/placeholder).\n",
    "* Implement `neural_net_label_input`\n",
    " * Return a [TF Placeholder](https://www.tensorflow.org/api_docs/python/tf/placeholder)\n",
    " * Set the shape using `n_classes` with batch size set to `None`.\n",
    " * Name the TensorFlow placeholder \"y\" using the TensorFlow `name` parameter in the [TF Placeholder](https://www.tensorflow.org/api_docs/python/tf/placeholder).\n",
    "* Implement `neural_net_keep_prob_input`\n",
    " * Return a [TF Placeholder](https://www.tensorflow.org/api_docs/python/tf/placeholder) for dropout keep probability.\n",
    " * Name the TensorFlow placeholder \"keep_prob\" using the TensorFlow `name` parameter in the [TF Placeholder](https://www.tensorflow.org/api_docs/python/tf/placeholder).\n",
    "\n",
    "These names will be used at the end of the project to load your saved model.\n",
    "\n",
    "Note: `None` for shapes in TensorFlow allow for a dynamic size."
   ]
  },
  {
   "cell_type": "code",
   "execution_count": 2,
   "metadata": {
    "collapsed": false,
    "deletable": true,
    "editable": true
   },
   "outputs": [
    {
     "name": "stdout",
     "output_type": "stream",
     "text": [
      "Image Input Tests Passed.\n",
      "Label Input Tests Passed.\n",
      "Keep Prob Tests Passed.\n"
     ]
    }
   ],
   "source": [
    "import tensorflow as tf\n",
    "\n",
    "def neural_net_image_input(image_shape):\n",
    "    \"\"\"\n",
    "    Return a Tensor for a bach of image input\n",
    "    : image_shape: Shape of the images\n",
    "    : return: Tensor for image input.\n",
    "    \"\"\"\n",
    "    # TODO: Implement Function\n",
    "    return tf.placeholder(tf.float32,[None,image_shape[0],image_shape[1],image_shape[2]],name=\"x\")\n",
    "\n",
    "\n",
    "def neural_net_label_input(n_classes):\n",
    "    \"\"\"\n",
    "    Return a Tensor for a batch of label input\n",
    "    : n_classes: Number of classes\n",
    "    : return: Tensor for label input.\n",
    "    \"\"\"\n",
    "    # TODO: Implement Function\n",
    "    return  tf.placeholder(tf.float32,[None,n_classes],name=\"y\") \n",
    "\n",
    "\n",
    "def neural_net_keep_prob_input():\n",
    "    \"\"\"\n",
    "    Return a Tensor for keep probability\n",
    "    : return: Tensor for keep probability.\n",
    "    \"\"\"\n",
    "    # TODO: Implement Function\n",
    "    return tf.placeholder(tf.float32,name=\"keep_prob\")\n",
    "\n",
    "\n",
    "\"\"\"\n",
    "DON'T MODIFY ANYTHING IN THIS CELL THAT IS BELOW THIS LINE\n",
    "\"\"\"\n",
    "tf.reset_default_graph()\n",
    "tests.test_nn_image_inputs(neural_net_image_input)\n",
    "tests.test_nn_label_inputs(neural_net_label_input)\n",
    "tests.test_nn_keep_prob_inputs(neural_net_keep_prob_input)"
   ]
  },
  {
   "cell_type": "markdown",
   "metadata": {
    "deletable": true,
    "editable": true
   },
   "source": [
    "# Convolution and Max Pooling Layer\n",
    "Convolution layers have a lot of success with images. For this code cell, you should implement the function `conv2d_maxpool` to apply convolution then max pooling:\n",
    "* Create the weight and bias using `conv_ksize`, `conv_num_outputs` and the shape of `x_tensor`.\n",
    "* Apply a convolution to `x_tensor` using weight and `conv_strides`.\n",
    " * We recommend you use same padding, but you're welcome to use any padding.\n",
    "* Add bias\n",
    "* Add a nonlinear activation to the convolution.\n",
    "* Apply Max Pooling using `pool_ksize` and `pool_strides`.\n",
    " * We recommend you use same padding, but you're welcome to use any padding.\n",
    "\n",
    "**Note:** You **can't** use [TensorFlow Layers](https://www.tensorflow.org/api_docs/python/tf/layers) or [TensorFlow Layers (contrib)](https://www.tensorflow.org/api_guides/python/contrib.layers) for **this** layer, but you can still use TensorFlow's [Neural Network](https://www.tensorflow.org/api_docs/python/tf/nn) package. You may still use the shortcut option for all the **other** layers."
   ]
  },
  {
   "cell_type": "code",
   "execution_count": 3,
   "metadata": {
    "collapsed": false,
    "deletable": true,
    "editable": true
   },
   "outputs": [
    {
     "name": "stdout",
     "output_type": "stream",
     "text": [
      "Tests Passed\n"
     ]
    }
   ],
   "source": [
    "def conv2d_maxpool(x_tensor, conv_num_outputs, conv_ksize, conv_strides, pool_ksize, pool_strides):\n",
    "    \"\"\"\n",
    "    Apply convolution then max pooling to x_tensor\n",
    "    :param x_tensor: TensorFlow Tensor\n",
    "    :param conv_num_outputs: Number of outputs for the convolutional layer\n",
    "    :param conv_ksize: kernal size 2-D Tuple for the convolutional layer\n",
    "    :param conv_strides: Stride 2-D Tuple for convolution\n",
    "    :param pool_ksize: kernal size 2-D Tuple for pool\n",
    "    :param pool_strides: Stride 2-D Tuple for pool\n",
    "    : return: A tensor that represents convolution and max pooling of x_tensor\n",
    "    \"\"\"\n",
    "    # TODO: Implement Function\n",
    "    conv2d_filter = [conv_ksize[0],conv_ksize[1],x_tensor.get_shape().as_list()[-1],conv_num_outputs]\n",
    "    conv2d_strides = [1, conv_strides[0], conv_strides[1], 1]\n",
    "    max_pool_ksize = [1, pool_ksize[0], pool_ksize[1], 1]\n",
    "    max_pool_strides = [1, pool_strides[0], pool_strides[1], 1]\n",
    "    \n",
    "    W = tf.Variable(tf.truncated_normal(conv2d_filter,mean=0,stddev=0.1), dtype=tf.float32)\n",
    "    b = tf.Variable(tf.zeros([conv_num_outputs], dtype=tf.float32))\n",
    "    \n",
    "    result = tf.nn.conv2d(x_tensor, W, strides=conv2d_strides, padding='SAME')\n",
    "    result = tf.nn.bias_add(result, b)\n",
    "    result = tf.nn.relu(result)\n",
    "    result = tf.nn.max_pool(result, ksize=max_pool_ksize, strides=max_pool_strides, padding='SAME')\n",
    "    return result\n",
    "\n",
    "\n",
    "\"\"\"\n",
    "DON'T MODIFY ANYTHING IN THIS CELL THAT IS BELOW THIS LINE\n",
    "\"\"\"\n",
    "tests.test_con_pool(conv2d_maxpool)"
   ]
  },
  {
   "cell_type": "markdown",
   "metadata": {
    "deletable": true,
    "editable": true
   },
   "source": [
    "### Flatten Layer\n",
    "Implement the `flatten` function to change the dimension of `x_tensor` from a 4-D tensor to a 2-D tensor.  The output should be the shape (*Batch Size*, *Flattened Image Size*). Shortcut option: you can use classes from the [TensorFlow Layers](https://www.tensorflow.org/api_docs/python/tf/layers) or [TensorFlow Layers (contrib)](https://www.tensorflow.org/api_guides/python/contrib.layers) packages for this layer. For more of a challenge, only use other TensorFlow packages."
   ]
  },
  {
   "cell_type": "code",
   "execution_count": 4,
   "metadata": {
    "collapsed": false,
    "deletable": true,
    "editable": true
   },
   "outputs": [
    {
     "name": "stdout",
     "output_type": "stream",
     "text": [
      "Tests Passed\n"
     ]
    }
   ],
   "source": [
    "def flatten(x_tensor):\n",
    "    \"\"\"\n",
    "    Flatten x_tensor to (Batch Size, Flattened Image Size)\n",
    "    : x_tensor: A tensor of size (Batch Size, ...), where ... are the image dimensions.\n",
    "    : return: A tensor of size (Batch Size, Flattened Image Size).\n",
    "    \"\"\"\n",
    "    # TODO: Implement Function\n",
    "    #flatten = lambda l: [item for sublist in l for item in sublist]\n",
    "    return tf.contrib.layers.flatten(x_tensor)\n",
    "\n",
    "\n",
    "\"\"\"\n",
    "DON'T MODIFY ANYTHING IN THIS CELL THAT IS BELOW THIS LINE\n",
    "\"\"\"\n",
    "tests.test_flatten(flatten)"
   ]
  },
  {
   "cell_type": "markdown",
   "metadata": {
    "deletable": true,
    "editable": true
   },
   "source": [
    "### Fully-Connected Layer\n",
    "Implement the `fully_conn` function to apply a fully connected layer to `x_tensor` with the shape (*Batch Size*, *num_outputs*). Shortcut option: you can use classes from the [TensorFlow Layers](https://www.tensorflow.org/api_docs/python/tf/layers) or [TensorFlow Layers (contrib)](https://www.tensorflow.org/api_guides/python/contrib.layers) packages for this layer. For more of a challenge, only use other TensorFlow packages."
   ]
  },
  {
   "cell_type": "code",
   "execution_count": 5,
   "metadata": {
    "collapsed": false,
    "deletable": true,
    "editable": true
   },
   "outputs": [
    {
     "name": "stdout",
     "output_type": "stream",
     "text": [
      "Tests Passed\n"
     ]
    }
   ],
   "source": [
    "def fully_conn(x_tensor, num_outputs):\n",
    "    \"\"\"\n",
    "    Apply a fully connected layer to x_tensor using weight and bias\n",
    "    : x_tensor: A 2-D tensor where the first dimension is batch size.\n",
    "    : num_outputs: The number of output that the new tensor should be.\n",
    "    : return: A 2-D tensor where the second dimension is num_outputs.\n",
    "    \"\"\"\n",
    "    # TODO: Implement Function\n",
    "    \n",
    "    #fc1 = tf.reshape(conv2, [-1, weights['wd1'].get_shape().as_list()[0]])\n",
    "    #fc1 = tf.add(tf.matmul(fc1, weights['wd1']), biases['bd1'])\n",
    "    #fc1 = tf.nn.relu(fc1)\n",
    "    #print(x_tensor.get_shape().as_list())\n",
    "    return tf.contrib.layers.fully_connected(inputs = x_tensor, num_outputs=num_outputs)\n",
    "\n",
    "\n",
    "\"\"\"\n",
    "DON'T MODIFY ANYTHING IN THIS CELL THAT IS BELOW THIS LINE\n",
    "\"\"\"\n",
    "tests.test_fully_conn(fully_conn)"
   ]
  },
  {
   "cell_type": "markdown",
   "metadata": {
    "deletable": true,
    "editable": true
   },
   "source": [
    "### Output Layer\n",
    "Implement the `output` function to apply a fully connected layer to `x_tensor` with the shape (*Batch Size*, *num_outputs*). Shortcut option: you can use classes from the [TensorFlow Layers](https://www.tensorflow.org/api_docs/python/tf/layers) or [TensorFlow Layers (contrib)](https://www.tensorflow.org/api_guides/python/contrib.layers) packages for this layer. For more of a challenge, only use other TensorFlow packages.\n",
    "\n",
    "**Note:** Activation, softmax, or cross entropy should **not** be applied to this."
   ]
  },
  {
   "cell_type": "code",
   "execution_count": 6,
   "metadata": {
    "collapsed": false,
    "deletable": true,
    "editable": true
   },
   "outputs": [
    {
     "name": "stdout",
     "output_type": "stream",
     "text": [
      "Tests Passed\n"
     ]
    }
   ],
   "source": [
    "def output(x_tensor, num_outputs):\n",
    "    \"\"\"\n",
    "    Apply a output layer to x_tensor using weight and bias\n",
    "    : x_tensor: A 2-D tensor where the first dimension is batch size.\n",
    "    : num_outputs: The number of output that the new tensor should be.\n",
    "    : return: A 2-D tensor where the second dimension is num_outputs.\n",
    "    \"\"\"\n",
    "    # TODO: Implement Function\n",
    "    return tf.contrib.layers.fully_connected(inputs = x_tensor, num_outputs=num_outputs,activation_fn=None)\n",
    "\n",
    "\n",
    "\"\"\"\n",
    "DON'T MODIFY ANYTHING IN THIS CELL THAT IS BELOW THIS LINE\n",
    "\"\"\"\n",
    "tests.test_output(output)"
   ]
  },
  {
   "cell_type": "markdown",
   "metadata": {
    "deletable": true,
    "editable": true
   },
   "source": [
    "### Create Convolutional Model\n",
    "Implement the function `conv_net` to create a convolutional neural network model. The function takes in a batch of images, `x`, and outputs logits.  Use the layers you created above to create this model:\n",
    "\n",
    "* Apply 1, 2, or 3 Convolution and Max Pool layers\n",
    "* Apply a Flatten Layer\n",
    "* Apply 1, 2, or 3 Fully Connected Layers\n",
    "* Apply an Output Layer\n",
    "* Return the output\n",
    "* Apply [TensorFlow's Dropout](https://www.tensorflow.org/api_docs/python/tf/nn/dropout) to one or more layers in the model using `keep_prob`. "
   ]
  },
  {
   "cell_type": "code",
   "execution_count": 14,
   "metadata": {
    "collapsed": false,
    "deletable": true,
    "editable": true
   },
   "outputs": [
    {
     "name": "stdout",
     "output_type": "stream",
     "text": [
      "Neural Network Built!\n"
     ]
    }
   ],
   "source": [
    "def conv_net(x, keep_prob):\n",
    "    \"\"\"\n",
    "    Create a convolutional neural network model\n",
    "    : x: Placeholder tensor that holds image data.\n",
    "    : keep_prob: Placeholder tensor that hold dropout keep probability.\n",
    "    : return: Tensor that represents logits\n",
    "    \"\"\"\n",
    "    # TODO: Apply 1, 2, or 3 Convolution and Max Pool layers\n",
    "    #    Play around with different number of outputs, kernel size and stride\n",
    "    # Function Definition from Above:\n",
    "    #    conv2d_maxpool(x_tensor, conv_num_outputs, conv_ksize, conv_strides, pool_ksize, pool_strides)\n",
    "    # Store layers weight & bias\n",
    "    \n",
    "    # 32x32x3 3x3x32\n",
    "    \n",
    "    base_output = [32,64,128,1024,1024,1024]\n",
    "    conv_ksize = (3,3)\n",
    "    conv_strides = (1,1)\n",
    "    pool_ksize = (2,2)\n",
    "    pool_strides = (2,2)\n",
    "    layer = x\n",
    "    layer = conv2d_maxpool(layer, base_output[0], conv_ksize, conv_strides, pool_ksize, pool_strides)\n",
    "    layer = conv2d_maxpool(layer, base_output[1], conv_ksize, conv_strides, pool_ksize, pool_strides)\n",
    "    layer = conv2d_maxpool(layer, base_output[2], conv_ksize, conv_strides, pool_ksize, pool_strides)\n",
    "    \n",
    "    \n",
    "    # TODO: Apply a Flatten Layer\n",
    "    # Function Definition from Above:\n",
    "    #   flatten(x_tensor)\n",
    "    layer = flatten(layer)\n",
    "\n",
    "    # TODO: Apply 1, 2, or 3 Fully Connected Layers\n",
    "    #    Play around with different number of outputs\n",
    "    # Function Definition from Above:\n",
    "    #   fully_conn(x_tensor, num_outputs)\n",
    "    \n",
    "    layer = tf.nn.dropout(layer,keep_prob)\n",
    "    layer = fully_conn(layer, base_output[3])\n",
    "    layer = tf.nn.dropout(layer,keep_prob)\n",
    "    layer = fully_conn(layer, base_output[4])\n",
    "    layer = tf.nn.dropout(layer,keep_prob)\n",
    "    layer = fully_conn(layer, base_output[5])\n",
    "    layer = tf.nn.dropout(layer,keep_prob)\n",
    "    \n",
    "    # TODO: Apply an Output Layer\n",
    "    #    Set this to the number of classes\n",
    "    # Function Definition from Above:\n",
    "    #   output(x_tensor, num_outputs)\n",
    "    layer = output(layer, 10)\n",
    "    \n",
    "    # TODO: return output\n",
    "    return layer\n",
    "\n",
    "\n",
    "\"\"\"\n",
    "DON'T MODIFY ANYTHING IN THIS CELL THAT IS BELOW THIS LINE\n",
    "\"\"\"\n",
    "\n",
    "##############################\n",
    "## Build the Neural Network ##\n",
    "##############################\n",
    "\n",
    "# Remove previous weights, bias, inputs, etc..\n",
    "tf.reset_default_graph()\n",
    "\n",
    "# Inputs\n",
    "x = neural_net_image_input((32, 32, 3))\n",
    "y = neural_net_label_input(10)\n",
    "keep_prob = neural_net_keep_prob_input()\n",
    "\n",
    "# Model\n",
    "logits = conv_net(x, keep_prob)\n",
    "\n",
    "# Name logits Tensor, so that is can be loaded from disk after training\n",
    "logits = tf.identity(logits, name='logits')\n",
    "\n",
    "# Loss and Optimizer\n",
    "cost = tf.reduce_mean(tf.nn.softmax_cross_entropy_with_logits(logits=logits, labels=y))\n",
    "optimizer = tf.train.AdamOptimizer().minimize(cost)\n",
    "\n",
    "# Accuracy\n",
    "correct_pred = tf.equal(tf.argmax(logits, 1), tf.argmax(y, 1))\n",
    "accuracy = tf.reduce_mean(tf.cast(correct_pred, tf.float32), name='accuracy')\n",
    "\n",
    "tests.test_conv_net(conv_net)"
   ]
  },
  {
   "cell_type": "markdown",
   "metadata": {
    "deletable": true,
    "editable": true
   },
   "source": [
    "## Train the Neural Network\n",
    "### Single Optimization\n",
    "Implement the function `train_neural_network` to do a single optimization.  The optimization should use `optimizer` to optimize in `session` with a `feed_dict` of the following:\n",
    "* `x` for image input\n",
    "* `y` for labels\n",
    "* `keep_prob` for keep probability for dropout\n",
    "\n",
    "This function will be called for each batch, so `tf.global_variables_initializer()` has already been called.\n",
    "\n",
    "Note: Nothing needs to be returned. This function is only optimizing the neural network."
   ]
  },
  {
   "cell_type": "code",
   "execution_count": 15,
   "metadata": {
    "collapsed": false,
    "deletable": true,
    "editable": true
   },
   "outputs": [
    {
     "name": "stdout",
     "output_type": "stream",
     "text": [
      "Tests Passed\n"
     ]
    }
   ],
   "source": [
    "def train_neural_network(session, optimizer, keep_probability, feature_batch, label_batch):\n",
    "    \"\"\"\n",
    "    Optimize the session on a batch of images and labels\n",
    "    : session: Current TensorFlow session\n",
    "    : optimizer: TensorFlow optimizer function\n",
    "    : keep_probability: keep probability\n",
    "    : feature_batch: Batch of Numpy image data\n",
    "    : label_batch: Batch of Numpy label data\n",
    "    \"\"\"\n",
    "    # TODO: Implement Function\n",
    "    session.run(optimizer, feed_dict={x: feature_batch, y: label_batch, keep_prob: keep_probability})\n",
    "\n",
    "\n",
    "\"\"\"\n",
    "DON'T MODIFY ANYTHING IN THIS CELL THAT IS BELOW THIS LINE\n",
    "\"\"\"\n",
    "tests.test_train_nn(train_neural_network)"
   ]
  },
  {
   "cell_type": "markdown",
   "metadata": {
    "deletable": true,
    "editable": true
   },
   "source": [
    "### Show Stats\n",
    "Implement the function `print_stats` to print loss and validation accuracy.  Use the global variables `valid_features` and `valid_labels` to calculate validation accuracy.  Use a keep probability of `1.0` to calculate the loss and validation accuracy."
   ]
  },
  {
   "cell_type": "code",
   "execution_count": 16,
   "metadata": {
    "collapsed": false,
    "deletable": true,
    "editable": true
   },
   "outputs": [],
   "source": [
    "def print_stats(session, feature_batch, label_batch, cost, accuracy):\n",
    "    \"\"\"\n",
    "    Print information about loss and validation accuracy\n",
    "    : session: Current TensorFlow session\n",
    "    : feature_batch: Batch of Numpy image data\n",
    "    : label_batch: Batch of Numpy label data\n",
    "    : cost: TensorFlow cost function\n",
    "    : accuracy: TensorFlow accuracy function\n",
    "    \"\"\"\n",
    "    # TODO: Implement Function\n",
    "    #loss, acc = session.run([cost, accuracy], feed_dict={x: feature_batch, y: label_batch, keep_prob: 1.})\n",
    "    loss = session.run(cost, feed_dict={x: feature_batch, y: label_batch, keep_prob: 1.0})\n",
    "    acc = session.run(accuracy, feed_dict={x: valid_features, y: valid_labels, keep_prob: 1.0})\n",
    "    print(\"Loss = %.6f , Accuracy = %.5f\" %(loss,acc))"
   ]
  },
  {
   "cell_type": "markdown",
   "metadata": {
    "deletable": true,
    "editable": true
   },
   "source": [
    "### Hyperparameters\n",
    "Tune the following parameters:\n",
    "* Set `epochs` to the number of iterations until the network stops learning or start overfitting\n",
    "* Set `batch_size` to the highest number that your machine has memory for.  Most people set them to common sizes of memory:\n",
    " * 64\n",
    " * 128\n",
    " * 256\n",
    " * ...\n",
    "* Set `keep_probability` to the probability of keeping a node using dropout"
   ]
  },
  {
   "cell_type": "code",
   "execution_count": 21,
   "metadata": {
    "collapsed": false,
    "deletable": true,
    "editable": true
   },
   "outputs": [],
   "source": [
    "# TODO: Tune Parameters\n",
    "epochs = 50\n",
    "batch_size = 4096\n",
    "keep_probability = 0.5"
   ]
  },
  {
   "cell_type": "markdown",
   "metadata": {
    "deletable": true,
    "editable": true
   },
   "source": [
    "### Train on a Single CIFAR-10 Batch\n",
    "Instead of training the neural network on all the CIFAR-10 batches of data, let's use a single batch. This should save time while you iterate on the model to get a better accuracy.  Once the final validation accuracy is 50% or greater, run the model on all the data in the next section."
   ]
  },
  {
   "cell_type": "code",
   "execution_count": 18,
   "metadata": {
    "collapsed": false,
    "deletable": true,
    "editable": true
   },
   "outputs": [
    {
     "name": "stdout",
     "output_type": "stream",
     "text": [
      "Checking the Training on a Single Batch...\n",
      "Epoch  1, CIFAR-10 Batch 1:  Loss = 2.287890 , Accuracy = 0.10620\n",
      "Epoch  2, CIFAR-10 Batch 1:  Loss = 2.286371 , Accuracy = 0.10780\n",
      "Epoch  3, CIFAR-10 Batch 1:  Loss = 2.260034 , Accuracy = 0.14680\n",
      "Epoch  4, CIFAR-10 Batch 1:  Loss = 2.192838 , Accuracy = 0.22420\n",
      "Epoch  5, CIFAR-10 Batch 1:  Loss = 2.049077 , Accuracy = 0.25260\n",
      "Epoch  6, CIFAR-10 Batch 1:  Loss = 2.003084 , Accuracy = 0.26000\n",
      "Epoch  7, CIFAR-10 Batch 1:  Loss = 1.860870 , Accuracy = 0.29460\n",
      "Epoch  8, CIFAR-10 Batch 1:  Loss = 1.827234 , Accuracy = 0.29680\n",
      "Epoch  9, CIFAR-10 Batch 1:  Loss = 1.750423 , Accuracy = 0.32740\n",
      "Epoch 10, CIFAR-10 Batch 1:  Loss = 1.704744 , Accuracy = 0.36760\n",
      "Epoch 11, CIFAR-10 Batch 1:  Loss = 1.685701 , Accuracy = 0.37240\n",
      "Epoch 12, CIFAR-10 Batch 1:  Loss = 1.564774 , Accuracy = 0.39020\n",
      "Epoch 13, CIFAR-10 Batch 1:  Loss = 1.519338 , Accuracy = 0.39260\n",
      "Epoch 14, CIFAR-10 Batch 1:  Loss = 1.496491 , Accuracy = 0.40460\n",
      "Epoch 15, CIFAR-10 Batch 1:  Loss = 1.418480 , Accuracy = 0.41780\n",
      "Epoch 16, CIFAR-10 Batch 1:  Loss = 1.392442 , Accuracy = 0.42340\n",
      "Epoch 17, CIFAR-10 Batch 1:  Loss = 1.339467 , Accuracy = 0.43860\n",
      "Epoch 18, CIFAR-10 Batch 1:  Loss = 1.276546 , Accuracy = 0.43860\n",
      "Epoch 19, CIFAR-10 Batch 1:  Loss = 1.235026 , Accuracy = 0.46400\n",
      "Epoch 20, CIFAR-10 Batch 1:  Loss = 1.136078 , Accuracy = 0.47440\n"
     ]
    }
   ],
   "source": [
    "\"\"\"\n",
    "DON'T MODIFY ANYTHING IN THIS CELL\n",
    "\"\"\"\n",
    "print('Checking the Training on a Single Batch...')\n",
    "with tf.Session() as sess:\n",
    "    # Initializing the variables\n",
    "    sess.run(tf.global_variables_initializer())\n",
    "    \n",
    "    # Training cycle\n",
    "    for epoch in range(epochs):\n",
    "        batch_i = 1\n",
    "        for batch_features, batch_labels in helper.load_preprocess_training_batch(batch_i, batch_size):\n",
    "            train_neural_network(sess, optimizer, keep_probability, batch_features, batch_labels)\n",
    "        print('Epoch {:>2}, CIFAR-10 Batch {}:  '.format(epoch + 1, batch_i), end='')\n",
    "        print_stats(sess, batch_features, batch_labels, cost, accuracy)"
   ]
  },
  {
   "cell_type": "markdown",
   "metadata": {
    "deletable": true,
    "editable": true
   },
   "source": [
    "### Fully Train the Model\n",
    "Now that you got a good accuracy with a single CIFAR-10 batch, try it with all five batches."
   ]
  },
  {
   "cell_type": "code",
   "execution_count": 22,
   "metadata": {
    "collapsed": false,
    "deletable": true,
    "editable": true
   },
   "outputs": [
    {
     "name": "stdout",
     "output_type": "stream",
     "text": [
      "Training...\n",
      "Epoch  1, CIFAR-10 Batch 1:  Loss = 2.307249 , Accuracy = 0.12740\n",
      "Epoch  1, CIFAR-10 Batch 2:  Loss = 2.298459 , Accuracy = 0.10760\n",
      "Epoch  1, CIFAR-10 Batch 3:  Loss = 2.296519 , Accuracy = 0.14940\n",
      "Epoch  1, CIFAR-10 Batch 4:  Loss = 2.294365 , Accuracy = 0.15980\n",
      "Epoch  1, CIFAR-10 Batch 5:  Loss = 2.289424 , Accuracy = 0.15640\n",
      "Epoch  2, CIFAR-10 Batch 1:  Loss = 2.275960 , Accuracy = 0.13880\n",
      "Epoch  2, CIFAR-10 Batch 2:  Loss = 2.235992 , Accuracy = 0.16080\n",
      "Epoch  2, CIFAR-10 Batch 3:  Loss = 2.150678 , Accuracy = 0.17500\n",
      "Epoch  2, CIFAR-10 Batch 4:  Loss = 2.058228 , Accuracy = 0.21240\n",
      "Epoch  2, CIFAR-10 Batch 5:  Loss = 2.047471 , Accuracy = 0.21220\n",
      "Epoch  3, CIFAR-10 Batch 1:  Loss = 2.050082 , Accuracy = 0.22200\n",
      "Epoch  3, CIFAR-10 Batch 2:  Loss = 2.011578 , Accuracy = 0.23000\n",
      "Epoch  3, CIFAR-10 Batch 3:  Loss = 1.913207 , Accuracy = 0.25140\n",
      "Epoch  3, CIFAR-10 Batch 4:  Loss = 1.869027 , Accuracy = 0.26300\n",
      "Epoch  3, CIFAR-10 Batch 5:  Loss = 1.894753 , Accuracy = 0.30260\n",
      "Epoch  4, CIFAR-10 Batch 1:  Loss = 1.832754 , Accuracy = 0.31180\n",
      "Epoch  4, CIFAR-10 Batch 2:  Loss = 1.815360 , Accuracy = 0.32060\n",
      "Epoch  4, CIFAR-10 Batch 3:  Loss = 1.715589 , Accuracy = 0.34060\n",
      "Epoch  4, CIFAR-10 Batch 4:  Loss = 1.705383 , Accuracy = 0.35000\n",
      "Epoch  4, CIFAR-10 Batch 5:  Loss = 1.691864 , Accuracy = 0.38480\n",
      "Epoch  5, CIFAR-10 Batch 1:  Loss = 1.639940 , Accuracy = 0.39140\n",
      "Epoch  5, CIFAR-10 Batch 2:  Loss = 1.613663 , Accuracy = 0.38520\n",
      "Epoch  5, CIFAR-10 Batch 3:  Loss = 1.492739 , Accuracy = 0.39620\n",
      "Epoch  5, CIFAR-10 Batch 4:  Loss = 1.502105 , Accuracy = 0.42020\n",
      "Epoch  5, CIFAR-10 Batch 5:  Loss = 1.501375 , Accuracy = 0.43340\n",
      "Epoch  6, CIFAR-10 Batch 1:  Loss = 1.479238 , Accuracy = 0.43620\n",
      "Epoch  6, CIFAR-10 Batch 2:  Loss = 1.494746 , Accuracy = 0.42280\n",
      "Epoch  6, CIFAR-10 Batch 3:  Loss = 1.374104 , Accuracy = 0.44020\n",
      "Epoch  6, CIFAR-10 Batch 4:  Loss = 1.411697 , Accuracy = 0.44640\n",
      "Epoch  6, CIFAR-10 Batch 5:  Loss = 1.417476 , Accuracy = 0.44820\n",
      "Epoch  7, CIFAR-10 Batch 1:  Loss = 1.368822 , Accuracy = 0.46960\n",
      "Epoch  7, CIFAR-10 Batch 2:  Loss = 1.407634 , Accuracy = 0.46700\n",
      "Epoch  7, CIFAR-10 Batch 3:  Loss = 1.351118 , Accuracy = 0.45620\n",
      "Epoch  7, CIFAR-10 Batch 4:  Loss = 1.296603 , Accuracy = 0.47780\n",
      "Epoch  7, CIFAR-10 Batch 5:  Loss = 1.292218 , Accuracy = 0.48940\n",
      "Epoch  8, CIFAR-10 Batch 1:  Loss = 1.284138 , Accuracy = 0.48700\n",
      "Epoch  8, CIFAR-10 Batch 2:  Loss = 1.299739 , Accuracy = 0.50520\n",
      "Epoch  8, CIFAR-10 Batch 3:  Loss = 1.222187 , Accuracy = 0.48960\n",
      "Epoch  8, CIFAR-10 Batch 4:  Loss = 1.218900 , Accuracy = 0.51060\n",
      "Epoch  8, CIFAR-10 Batch 5:  Loss = 1.212785 , Accuracy = 0.50700\n",
      "Epoch  9, CIFAR-10 Batch 1:  Loss = 1.219864 , Accuracy = 0.52000\n",
      "Epoch  9, CIFAR-10 Batch 2:  Loss = 1.233419 , Accuracy = 0.50780\n",
      "Epoch  9, CIFAR-10 Batch 3:  Loss = 1.141171 , Accuracy = 0.51920\n",
      "Epoch  9, CIFAR-10 Batch 4:  Loss = 1.159861 , Accuracy = 0.52360\n",
      "Epoch  9, CIFAR-10 Batch 5:  Loss = 1.143071 , Accuracy = 0.52600\n",
      "Epoch 10, CIFAR-10 Batch 1:  Loss = 1.139035 , Accuracy = 0.53560\n",
      "Epoch 10, CIFAR-10 Batch 2:  Loss = 1.189405 , Accuracy = 0.52860\n",
      "Epoch 10, CIFAR-10 Batch 3:  Loss = 1.087726 , Accuracy = 0.53220\n",
      "Epoch 10, CIFAR-10 Batch 4:  Loss = 1.056240 , Accuracy = 0.53920\n",
      "Epoch 10, CIFAR-10 Batch 5:  Loss = 1.057757 , Accuracy = 0.55400\n",
      "Epoch 11, CIFAR-10 Batch 1:  Loss = 1.052919 , Accuracy = 0.55740\n",
      "Epoch 11, CIFAR-10 Batch 2:  Loss = 1.108440 , Accuracy = 0.54140\n",
      "Epoch 11, CIFAR-10 Batch 3:  Loss = 1.025353 , Accuracy = 0.54620\n",
      "Epoch 11, CIFAR-10 Batch 4:  Loss = 1.005677 , Accuracy = 0.55760\n",
      "Epoch 11, CIFAR-10 Batch 5:  Loss = 0.993505 , Accuracy = 0.57320\n",
      "Epoch 12, CIFAR-10 Batch 1:  Loss = 0.988794 , Accuracy = 0.57180\n",
      "Epoch 12, CIFAR-10 Batch 2:  Loss = 1.023247 , Accuracy = 0.56780\n",
      "Epoch 12, CIFAR-10 Batch 3:  Loss = 0.931911 , Accuracy = 0.56440\n",
      "Epoch 12, CIFAR-10 Batch 4:  Loss = 0.979602 , Accuracy = 0.56580\n",
      "Epoch 12, CIFAR-10 Batch 5:  Loss = 0.961941 , Accuracy = 0.57380\n",
      "Epoch 13, CIFAR-10 Batch 1:  Loss = 0.954164 , Accuracy = 0.58940\n",
      "Epoch 13, CIFAR-10 Batch 2:  Loss = 0.936576 , Accuracy = 0.58840\n",
      "Epoch 13, CIFAR-10 Batch 3:  Loss = 0.886376 , Accuracy = 0.58340\n",
      "Epoch 13, CIFAR-10 Batch 4:  Loss = 0.865207 , Accuracy = 0.59240\n",
      "Epoch 13, CIFAR-10 Batch 5:  Loss = 0.878102 , Accuracy = 0.58780\n",
      "Epoch 14, CIFAR-10 Batch 1:  Loss = 0.874299 , Accuracy = 0.60360\n",
      "Epoch 14, CIFAR-10 Batch 2:  Loss = 0.900097 , Accuracy = 0.59920\n",
      "Epoch 14, CIFAR-10 Batch 3:  Loss = 0.825081 , Accuracy = 0.60240\n",
      "Epoch 14, CIFAR-10 Batch 4:  Loss = 0.824220 , Accuracy = 0.60260\n",
      "Epoch 14, CIFAR-10 Batch 5:  Loss = 0.808443 , Accuracy = 0.61220\n",
      "Epoch 15, CIFAR-10 Batch 1:  Loss = 0.817017 , Accuracy = 0.60860\n",
      "Epoch 15, CIFAR-10 Batch 2:  Loss = 0.855175 , Accuracy = 0.60380\n",
      "Epoch 15, CIFAR-10 Batch 3:  Loss = 0.798773 , Accuracy = 0.60800\n",
      "Epoch 15, CIFAR-10 Batch 4:  Loss = 0.771314 , Accuracy = 0.61420\n",
      "Epoch 15, CIFAR-10 Batch 5:  Loss = 0.743759 , Accuracy = 0.62240\n",
      "Epoch 16, CIFAR-10 Batch 1:  Loss = 0.763224 , Accuracy = 0.61880\n",
      "Epoch 16, CIFAR-10 Batch 2:  Loss = 0.782357 , Accuracy = 0.62120\n",
      "Epoch 16, CIFAR-10 Batch 3:  Loss = 0.722257 , Accuracy = 0.62340\n",
      "Epoch 16, CIFAR-10 Batch 4:  Loss = 0.709570 , Accuracy = 0.62180\n",
      "Epoch 16, CIFAR-10 Batch 5:  Loss = 0.701460 , Accuracy = 0.62840\n",
      "Epoch 17, CIFAR-10 Batch 1:  Loss = 0.712516 , Accuracy = 0.62580\n",
      "Epoch 17, CIFAR-10 Batch 2:  Loss = 0.718760 , Accuracy = 0.62620\n",
      "Epoch 17, CIFAR-10 Batch 3:  Loss = 0.676902 , Accuracy = 0.63860\n",
      "Epoch 17, CIFAR-10 Batch 4:  Loss = 0.662855 , Accuracy = 0.63820\n",
      "Epoch 17, CIFAR-10 Batch 5:  Loss = 0.632107 , Accuracy = 0.64200\n",
      "Epoch 18, CIFAR-10 Batch 1:  Loss = 0.652209 , Accuracy = 0.63880\n",
      "Epoch 18, CIFAR-10 Batch 2:  Loss = 0.650924 , Accuracy = 0.64140\n",
      "Epoch 18, CIFAR-10 Batch 3:  Loss = 0.621622 , Accuracy = 0.64000\n",
      "Epoch 18, CIFAR-10 Batch 4:  Loss = 0.606762 , Accuracy = 0.64180\n",
      "Epoch 18, CIFAR-10 Batch 5:  Loss = 0.596883 , Accuracy = 0.64440\n",
      "Epoch 19, CIFAR-10 Batch 1:  Loss = 0.629884 , Accuracy = 0.64640\n",
      "Epoch 19, CIFAR-10 Batch 2:  Loss = 0.620396 , Accuracy = 0.65120\n",
      "Epoch 19, CIFAR-10 Batch 3:  Loss = 0.574881 , Accuracy = 0.65260\n",
      "Epoch 19, CIFAR-10 Batch 4:  Loss = 0.563458 , Accuracy = 0.64980\n",
      "Epoch 19, CIFAR-10 Batch 5:  Loss = 0.558191 , Accuracy = 0.65460\n",
      "Epoch 20, CIFAR-10 Batch 1:  Loss = 0.607982 , Accuracy = 0.65260\n",
      "Epoch 20, CIFAR-10 Batch 2:  Loss = 0.565450 , Accuracy = 0.66020\n",
      "Epoch 20, CIFAR-10 Batch 3:  Loss = 0.549340 , Accuracy = 0.65480\n",
      "Epoch 20, CIFAR-10 Batch 4:  Loss = 0.539382 , Accuracy = 0.65760\n",
      "Epoch 20, CIFAR-10 Batch 5:  Loss = 0.505086 , Accuracy = 0.67000\n",
      "Epoch 21, CIFAR-10 Batch 1:  Loss = 0.577704 , Accuracy = 0.64340\n",
      "Epoch 21, CIFAR-10 Batch 2:  Loss = 0.559451 , Accuracy = 0.65720\n",
      "Epoch 21, CIFAR-10 Batch 3:  Loss = 0.526406 , Accuracy = 0.65620\n",
      "Epoch 21, CIFAR-10 Batch 4:  Loss = 0.498445 , Accuracy = 0.66140\n",
      "Epoch 21, CIFAR-10 Batch 5:  Loss = 0.507420 , Accuracy = 0.66220\n",
      "Epoch 22, CIFAR-10 Batch 1:  Loss = 0.544294 , Accuracy = 0.65140\n",
      "Epoch 22, CIFAR-10 Batch 2:  Loss = 0.502522 , Accuracy = 0.66740\n",
      "Epoch 22, CIFAR-10 Batch 3:  Loss = 0.497565 , Accuracy = 0.66960\n",
      "Epoch 22, CIFAR-10 Batch 4:  Loss = 0.466011 , Accuracy = 0.66960\n",
      "Epoch 22, CIFAR-10 Batch 5:  Loss = 0.462362 , Accuracy = 0.66420\n",
      "Epoch 23, CIFAR-10 Batch 1:  Loss = 0.476157 , Accuracy = 0.67500\n",
      "Epoch 23, CIFAR-10 Batch 2:  Loss = 0.464731 , Accuracy = 0.67720\n",
      "Epoch 23, CIFAR-10 Batch 3:  Loss = 0.436252 , Accuracy = 0.67520\n",
      "Epoch 23, CIFAR-10 Batch 4:  Loss = 0.420750 , Accuracy = 0.67500\n",
      "Epoch 23, CIFAR-10 Batch 5:  Loss = 0.420751 , Accuracy = 0.67120\n",
      "Epoch 24, CIFAR-10 Batch 1:  Loss = 0.468425 , Accuracy = 0.66820\n",
      "Epoch 24, CIFAR-10 Batch 2:  Loss = 0.425221 , Accuracy = 0.67640\n",
      "Epoch 24, CIFAR-10 Batch 3:  Loss = 0.411951 , Accuracy = 0.67820\n",
      "Epoch 24, CIFAR-10 Batch 4:  Loss = 0.381505 , Accuracy = 0.68040\n",
      "Epoch 24, CIFAR-10 Batch 5:  Loss = 0.395355 , Accuracy = 0.66580\n",
      "Epoch 25, CIFAR-10 Batch 1:  Loss = 0.434982 , Accuracy = 0.66960\n",
      "Epoch 25, CIFAR-10 Batch 2:  Loss = 0.395883 , Accuracy = 0.68140\n",
      "Epoch 25, CIFAR-10 Batch 3:  Loss = 0.385183 , Accuracy = 0.67780\n",
      "Epoch 25, CIFAR-10 Batch 4:  Loss = 0.393059 , Accuracy = 0.67060\n",
      "Epoch 25, CIFAR-10 Batch 5:  Loss = 0.356207 , Accuracy = 0.67920\n",
      "Epoch 26, CIFAR-10 Batch 1:  Loss = 0.429152 , Accuracy = 0.66260\n",
      "Epoch 26, CIFAR-10 Batch 2:  Loss = 0.399190 , Accuracy = 0.67800\n",
      "Epoch 26, CIFAR-10 Batch 3:  Loss = 0.373972 , Accuracy = 0.68100\n",
      "Epoch 26, CIFAR-10 Batch 4:  Loss = 0.335764 , Accuracy = 0.67860\n",
      "Epoch 26, CIFAR-10 Batch 5:  Loss = 0.310739 , Accuracy = 0.68600\n",
      "Epoch 27, CIFAR-10 Batch 1:  Loss = 0.357218 , Accuracy = 0.68940\n",
      "Epoch 27, CIFAR-10 Batch 2:  Loss = 0.337780 , Accuracy = 0.68680\n",
      "Epoch 27, CIFAR-10 Batch 3:  Loss = 0.351317 , Accuracy = 0.67780\n",
      "Epoch 27, CIFAR-10 Batch 4:  Loss = 0.333383 , Accuracy = 0.67500\n",
      "Epoch 27, CIFAR-10 Batch 5:  Loss = 0.340899 , Accuracy = 0.67440\n",
      "Epoch 28, CIFAR-10 Batch 1:  Loss = 0.350234 , Accuracy = 0.68620\n",
      "Epoch 28, CIFAR-10 Batch 2:  Loss = 0.339011 , Accuracy = 0.68220\n",
      "Epoch 28, CIFAR-10 Batch 3:  Loss = 0.320885 , Accuracy = 0.68800\n",
      "Epoch 28, CIFAR-10 Batch 4:  Loss = 0.296503 , Accuracy = 0.69140\n",
      "Epoch 28, CIFAR-10 Batch 5:  Loss = 0.292052 , Accuracy = 0.69360\n",
      "Epoch 29, CIFAR-10 Batch 1:  Loss = 0.304548 , Accuracy = 0.69620\n",
      "Epoch 29, CIFAR-10 Batch 2:  Loss = 0.287596 , Accuracy = 0.69220\n",
      "Epoch 29, CIFAR-10 Batch 3:  Loss = 0.278812 , Accuracy = 0.69320\n",
      "Epoch 29, CIFAR-10 Batch 4:  Loss = 0.255239 , Accuracy = 0.69780\n",
      "Epoch 29, CIFAR-10 Batch 5:  Loss = 0.247906 , Accuracy = 0.69420\n",
      "Epoch 30, CIFAR-10 Batch 1:  Loss = 0.280563 , Accuracy = 0.69620\n",
      "Epoch 30, CIFAR-10 Batch 2:  Loss = 0.260679 , Accuracy = 0.69740\n",
      "Epoch 30, CIFAR-10 Batch 3:  Loss = 0.258173 , Accuracy = 0.69960\n",
      "Epoch 30, CIFAR-10 Batch 4:  Loss = 0.237212 , Accuracy = 0.69760\n",
      "Epoch 30, CIFAR-10 Batch 5:  Loss = 0.239810 , Accuracy = 0.68480\n",
      "Epoch 31, CIFAR-10 Batch 1:  Loss = 0.267949 , Accuracy = 0.69680\n",
      "Epoch 31, CIFAR-10 Batch 2:  Loss = 0.254148 , Accuracy = 0.69460\n",
      "Epoch 31, CIFAR-10 Batch 3:  Loss = 0.253955 , Accuracy = 0.70620\n",
      "Epoch 31, CIFAR-10 Batch 4:  Loss = 0.217889 , Accuracy = 0.70740\n",
      "Epoch 31, CIFAR-10 Batch 5:  Loss = 0.210278 , Accuracy = 0.70160\n",
      "Epoch 32, CIFAR-10 Batch 1:  Loss = 0.244187 , Accuracy = 0.70340\n",
      "Epoch 32, CIFAR-10 Batch 2:  Loss = 0.225693 , Accuracy = 0.70620\n",
      "Epoch 32, CIFAR-10 Batch 3:  Loss = 0.213086 , Accuracy = 0.69920\n",
      "Epoch 32, CIFAR-10 Batch 4:  Loss = 0.194150 , Accuracy = 0.70620\n",
      "Epoch 32, CIFAR-10 Batch 5:  Loss = 0.182547 , Accuracy = 0.70560\n",
      "Epoch 33, CIFAR-10 Batch 1:  Loss = 0.206498 , Accuracy = 0.70960\n",
      "Epoch 33, CIFAR-10 Batch 2:  Loss = 0.196926 , Accuracy = 0.70580\n",
      "Epoch 33, CIFAR-10 Batch 3:  Loss = 0.209263 , Accuracy = 0.70200\n",
      "Epoch 33, CIFAR-10 Batch 4:  Loss = 0.181968 , Accuracy = 0.70760\n",
      "Epoch 33, CIFAR-10 Batch 5:  Loss = 0.166675 , Accuracy = 0.70560\n",
      "Epoch 34, CIFAR-10 Batch 1:  Loss = 0.189173 , Accuracy = 0.70920\n",
      "Epoch 34, CIFAR-10 Batch 2:  Loss = 0.182265 , Accuracy = 0.71620\n",
      "Epoch 34, CIFAR-10 Batch 3:  Loss = 0.203770 , Accuracy = 0.70540\n",
      "Epoch 34, CIFAR-10 Batch 4:  Loss = 0.174706 , Accuracy = 0.70920\n",
      "Epoch 34, CIFAR-10 Batch 5:  Loss = 0.167485 , Accuracy = 0.70460\n",
      "Epoch 35, CIFAR-10 Batch 1:  Loss = 0.192382 , Accuracy = 0.70560\n",
      "Epoch 35, CIFAR-10 Batch 2:  Loss = 0.182155 , Accuracy = 0.71200\n",
      "Epoch 35, CIFAR-10 Batch 3:  Loss = 0.194044 , Accuracy = 0.70220\n",
      "Epoch 35, CIFAR-10 Batch 4:  Loss = 0.182809 , Accuracy = 0.70320\n",
      "Epoch 35, CIFAR-10 Batch 5:  Loss = 0.169151 , Accuracy = 0.69860\n",
      "Epoch 36, CIFAR-10 Batch 1:  Loss = 0.165385 , Accuracy = 0.71380\n",
      "Epoch 36, CIFAR-10 Batch 2:  Loss = 0.166362 , Accuracy = 0.71120\n",
      "Epoch 36, CIFAR-10 Batch 3:  Loss = 0.176377 , Accuracy = 0.70500\n",
      "Epoch 36, CIFAR-10 Batch 4:  Loss = 0.158574 , Accuracy = 0.71540\n",
      "Epoch 36, CIFAR-10 Batch 5:  Loss = 0.150238 , Accuracy = 0.71000\n",
      "Epoch 37, CIFAR-10 Batch 1:  Loss = 0.160555 , Accuracy = 0.71360\n",
      "Epoch 37, CIFAR-10 Batch 2:  Loss = 0.157195 , Accuracy = 0.69740\n",
      "Epoch 37, CIFAR-10 Batch 3:  Loss = 0.160571 , Accuracy = 0.70400\n",
      "Epoch 37, CIFAR-10 Batch 4:  Loss = 0.146955 , Accuracy = 0.71120\n",
      "Epoch 37, CIFAR-10 Batch 5:  Loss = 0.136146 , Accuracy = 0.70900\n",
      "Epoch 38, CIFAR-10 Batch 1:  Loss = 0.150298 , Accuracy = 0.71060\n",
      "Epoch 38, CIFAR-10 Batch 2:  Loss = 0.153316 , Accuracy = 0.70520\n",
      "Epoch 38, CIFAR-10 Batch 3:  Loss = 0.134200 , Accuracy = 0.71660\n",
      "Epoch 38, CIFAR-10 Batch 4:  Loss = 0.125865 , Accuracy = 0.71760\n",
      "Epoch 38, CIFAR-10 Batch 5:  Loss = 0.133236 , Accuracy = 0.71200\n",
      "Epoch 39, CIFAR-10 Batch 1:  Loss = 0.137855 , Accuracy = 0.71160\n",
      "Epoch 39, CIFAR-10 Batch 2:  Loss = 0.138426 , Accuracy = 0.70480\n",
      "Epoch 39, CIFAR-10 Batch 3:  Loss = 0.134146 , Accuracy = 0.71260\n",
      "Epoch 39, CIFAR-10 Batch 4:  Loss = 0.125307 , Accuracy = 0.71000\n",
      "Epoch 39, CIFAR-10 Batch 5:  Loss = 0.119042 , Accuracy = 0.71540\n",
      "Epoch 40, CIFAR-10 Batch 1:  Loss = 0.128779 , Accuracy = 0.71100\n",
      "Epoch 40, CIFAR-10 Batch 2:  Loss = 0.131197 , Accuracy = 0.70700\n",
      "Epoch 40, CIFAR-10 Batch 3:  Loss = 0.120266 , Accuracy = 0.72180\n",
      "Epoch 40, CIFAR-10 Batch 4:  Loss = 0.122569 , Accuracy = 0.71900\n",
      "Epoch 40, CIFAR-10 Batch 5:  Loss = 0.111465 , Accuracy = 0.71740\n",
      "Epoch 41, CIFAR-10 Batch 1:  Loss = 0.121193 , Accuracy = 0.71760\n",
      "Epoch 41, CIFAR-10 Batch 2:  Loss = 0.139974 , Accuracy = 0.69480\n",
      "Epoch 41, CIFAR-10 Batch 3:  Loss = 0.119077 , Accuracy = 0.71560\n",
      "Epoch 41, CIFAR-10 Batch 4:  Loss = 0.111103 , Accuracy = 0.70920\n",
      "Epoch 41, CIFAR-10 Batch 5:  Loss = 0.105441 , Accuracy = 0.71800\n",
      "Epoch 42, CIFAR-10 Batch 1:  Loss = 0.104143 , Accuracy = 0.72580\n",
      "Epoch 42, CIFAR-10 Batch 2:  Loss = 0.116441 , Accuracy = 0.70580\n",
      "Epoch 42, CIFAR-10 Batch 3:  Loss = 0.109615 , Accuracy = 0.72300\n",
      "Epoch 42, CIFAR-10 Batch 4:  Loss = 0.113530 , Accuracy = 0.70540\n",
      "Epoch 42, CIFAR-10 Batch 5:  Loss = 0.109098 , Accuracy = 0.71920\n",
      "Epoch 43, CIFAR-10 Batch 1:  Loss = 0.105912 , Accuracy = 0.71920\n",
      "Epoch 43, CIFAR-10 Batch 2:  Loss = 0.114823 , Accuracy = 0.71840\n",
      "Epoch 43, CIFAR-10 Batch 3:  Loss = 0.096310 , Accuracy = 0.72280\n",
      "Epoch 43, CIFAR-10 Batch 4:  Loss = 0.092684 , Accuracy = 0.71940\n",
      "Epoch 43, CIFAR-10 Batch 5:  Loss = 0.082164 , Accuracy = 0.72760\n",
      "Epoch 44, CIFAR-10 Batch 1:  Loss = 0.081077 , Accuracy = 0.72860\n",
      "Epoch 44, CIFAR-10 Batch 2:  Loss = 0.094393 , Accuracy = 0.70520\n",
      "Epoch 44, CIFAR-10 Batch 3:  Loss = 0.082522 , Accuracy = 0.72580\n",
      "Epoch 44, CIFAR-10 Batch 4:  Loss = 0.084194 , Accuracy = 0.70980\n",
      "Epoch 44, CIFAR-10 Batch 5:  Loss = 0.085359 , Accuracy = 0.72460\n",
      "Epoch 45, CIFAR-10 Batch 1:  Loss = 0.078442 , Accuracy = 0.73020\n",
      "Epoch 45, CIFAR-10 Batch 2:  Loss = 0.099882 , Accuracy = 0.70780\n",
      "Epoch 45, CIFAR-10 Batch 3:  Loss = 0.080537 , Accuracy = 0.72020\n",
      "Epoch 45, CIFAR-10 Batch 4:  Loss = 0.077391 , Accuracy = 0.71680\n",
      "Epoch 45, CIFAR-10 Batch 5:  Loss = 0.072588 , Accuracy = 0.72700\n",
      "Epoch 46, CIFAR-10 Batch 1:  Loss = 0.075307 , Accuracy = 0.72920\n",
      "Epoch 46, CIFAR-10 Batch 2:  Loss = 0.084917 , Accuracy = 0.71300\n",
      "Epoch 46, CIFAR-10 Batch 3:  Loss = 0.070761 , Accuracy = 0.72340\n",
      "Epoch 46, CIFAR-10 Batch 4:  Loss = 0.073083 , Accuracy = 0.72000\n",
      "Epoch 46, CIFAR-10 Batch 5:  Loss = 0.074767 , Accuracy = 0.72480\n",
      "Epoch 47, CIFAR-10 Batch 1:  Loss = 0.072089 , Accuracy = 0.73540\n",
      "Epoch 47, CIFAR-10 Batch 2:  Loss = 0.071908 , Accuracy = 0.72220\n",
      "Epoch 47, CIFAR-10 Batch 3:  Loss = 0.066812 , Accuracy = 0.72760\n",
      "Epoch 47, CIFAR-10 Batch 4:  Loss = 0.065744 , Accuracy = 0.72280\n",
      "Epoch 47, CIFAR-10 Batch 5:  Loss = 0.059169 , Accuracy = 0.73720\n",
      "Epoch 48, CIFAR-10 Batch 1:  Loss = 0.068541 , Accuracy = 0.73200\n",
      "Epoch 48, CIFAR-10 Batch 2:  Loss = 0.067015 , Accuracy = 0.72720\n",
      "Epoch 48, CIFAR-10 Batch 3:  Loss = 0.063134 , Accuracy = 0.73220\n",
      "Epoch 48, CIFAR-10 Batch 4:  Loss = 0.058663 , Accuracy = 0.72360\n",
      "Epoch 48, CIFAR-10 Batch 5:  Loss = 0.052197 , Accuracy = 0.73400\n",
      "Epoch 49, CIFAR-10 Batch 1:  Loss = 0.061547 , Accuracy = 0.73640\n",
      "Epoch 49, CIFAR-10 Batch 2:  Loss = 0.061107 , Accuracy = 0.73560\n",
      "Epoch 49, CIFAR-10 Batch 3:  Loss = 0.053797 , Accuracy = 0.73520\n",
      "Epoch 49, CIFAR-10 Batch 4:  Loss = 0.058114 , Accuracy = 0.72340\n",
      "Epoch 49, CIFAR-10 Batch 5:  Loss = 0.052343 , Accuracy = 0.72820\n",
      "Epoch 50, CIFAR-10 Batch 1:  Loss = 0.060648 , Accuracy = 0.72940\n",
      "Epoch 50, CIFAR-10 Batch 2:  Loss = 0.063678 , Accuracy = 0.73320\n",
      "Epoch 50, CIFAR-10 Batch 3:  Loss = 0.055269 , Accuracy = 0.73000\n",
      "Epoch 50, CIFAR-10 Batch 4:  Loss = 0.054516 , Accuracy = 0.72600\n",
      "Epoch 50, CIFAR-10 Batch 5:  Loss = 0.047762 , Accuracy = 0.73060\n"
     ]
    }
   ],
   "source": [
    "\"\"\"\n",
    "DON'T MODIFY ANYTHING IN THIS CELL\n",
    "\"\"\"\n",
    "save_model_path = './image_classification'\n",
    "\n",
    "print('Training...')\n",
    "with tf.Session() as sess:\n",
    "    # Initializing the variables\n",
    "    sess.run(tf.global_variables_initializer())\n",
    "    \n",
    "    # Training cycle\n",
    "    for epoch in range(epochs):\n",
    "        # Loop over all batches\n",
    "        n_batches = 5\n",
    "        for batch_i in range(1, n_batches + 1):\n",
    "            for batch_features, batch_labels in helper.load_preprocess_training_batch(batch_i, batch_size):\n",
    "                train_neural_network(sess, optimizer, keep_probability, batch_features, batch_labels)\n",
    "            print('Epoch {:>2}, CIFAR-10 Batch {}:  '.format(epoch + 1, batch_i), end='')\n",
    "            print_stats(sess, batch_features, batch_labels, cost, accuracy)\n",
    "            \n",
    "    # Save Model\n",
    "    saver = tf.train.Saver()\n",
    "    save_path = saver.save(sess, save_model_path)"
   ]
  },
  {
   "cell_type": "markdown",
   "metadata": {
    "deletable": true,
    "editable": true
   },
   "source": [
    "# Checkpoint\n",
    "The model has been saved to disk.\n",
    "## Test Model\n",
    "Test your model against the test dataset.  This will be your final accuracy. You should have an accuracy greater than 50%. If you don't, keep tweaking the model architecture and parameters."
   ]
  },
  {
   "cell_type": "code",
   "execution_count": 23,
   "metadata": {
    "collapsed": false,
    "deletable": true,
    "editable": true
   },
   "outputs": [
    {
     "name": "stdout",
     "output_type": "stream",
     "text": [
      "Testing Accuracy: 0.7330289681752523\n",
      "\n"
     ]
    },
    {
     "data": {
      "image/png": "[encoded data removed]",
      "text/plain": [
       "<matplotlib.figure.Figure at 0x7f3f981abc50>"
      ]
     },
     "metadata": {
      "image/png": {
       "height": 319,
       "width": 355
      }
     },
     "output_type": "display_data"
    }
   ],
   "source": [
    "\"\"\"\n",
    "DON'T MODIFY ANYTHING IN THIS CELL\n",
    "\"\"\"\n",
    "%matplotlib inline\n",
    "%config InlineBackend.figure_format = 'retina'\n",
    "\n",
    "import tensorflow as tf\n",
    "import pickle\n",
    "import helper\n",
    "import random\n",
    "\n",
    "# Set batch size if not already set\n",
    "try:\n",
    "    if batch_size:\n",
    "        pass\n",
    "except NameError:\n",
    "    batch_size = 64\n",
    "\n",
    "save_model_path = './image_classification'\n",
    "n_samples = 4\n",
    "top_n_predictions = 3\n",
    "\n",
    "def test_model():\n",
    "    \"\"\"\n",
    "    Test the saved model against the test dataset\n",
    "    \"\"\"\n",
    "\n",
    "    test_features, test_labels = pickle.load(open('preprocess_training.p', mode='rb'))\n",
    "    loaded_graph = tf.Graph()\n",
    "\n",
    "    with tf.Session(graph=loaded_graph) as sess:\n",
    "        # Load model\n",
    "        loader = tf.train.import_meta_graph(save_model_path + '.meta')\n",
    "        loader.restore(sess, save_model_path)\n",
    "\n",
    "        # Get Tensors from loaded model\n",
    "        loaded_x = loaded_graph.get_tensor_by_name('x:0')\n",
    "        loaded_y = loaded_graph.get_tensor_by_name('y:0')\n",
    "        loaded_keep_prob = loaded_graph.get_tensor_by_name('keep_prob:0')\n",
    "        loaded_logits = loaded_graph.get_tensor_by_name('logits:0')\n",
    "        loaded_acc = loaded_graph.get_tensor_by_name('accuracy:0')\n",
    "        \n",
    "        # Get accuracy in batches for memory limitations\n",
    "        test_batch_acc_total = 0\n",
    "        test_batch_count = 0\n",
    "        \n",
    "        for train_feature_batch, train_label_batch in helper.batch_features_labels(test_features, test_labels, batch_size):\n",
    "            test_batch_acc_total += sess.run(\n",
    "                loaded_acc,\n",
    "                feed_dict={loaded_x: train_feature_batch, loaded_y: train_label_batch, loaded_keep_prob: 1.0})\n",
    "            test_batch_count += 1\n",
    "\n",
    "        print('Testing Accuracy: {}\\n'.format(test_batch_acc_total/test_batch_count))\n",
    "\n",
    "        # Print Random Samples\n",
    "        random_test_features, random_test_labels = tuple(zip(*random.sample(list(zip(test_features, test_labels)), n_samples)))\n",
    "        random_test_predictions = sess.run(\n",
    "            tf.nn.top_k(tf.nn.softmax(loaded_logits), top_n_predictions),\n",
    "            feed_dict={loaded_x: random_test_features, loaded_y: random_test_labels, loaded_keep_prob: 1.0})\n",
    "        helper.display_image_predictions(random_test_features, random_test_labels, random_test_predictions)\n",
    "\n",
    "\n",
    "test_model()"
   ]
  },
  {
   "cell_type": "markdown",
   "metadata": {
    "deletable": true,
    "editable": true
   },
   "source": [
    "## Why 50-70% Accuracy?\n",
    "You might be wondering why you can't get an accuracy any higher. First things first, 50% isn't bad for a simple CNN.  Pure guessing would get you 10% accuracy. However, you might notice people are getting scores [well above 70%](http://rodrigob.github.io/are_we_there_yet/build/classification_datasets_results.html#43494641522d3130).  That's because we haven't taught you all there is to know about neural networks. We still need to cover a few more techniques.\n",
    "## Submitting This Project\n",
    "When submitting this project, make sure to run all the cells before saving the notebook.  Save the notebook file as \"dlnd_image_classification.ipynb\" and save it as a HTML file under \"File\" -> \"Download as\".  Include the \"helper.py\" and \"problem_unittests.py\" files in your submission."
   ]
  }
 ],
 "metadata": {
  "kernelspec": {
   "display_name": "Python 3",
   "language": "python",
   "name": "python3"
  },
  "language_info": {
   "codemirror_mode": {
    "name": "ipython",
    "version": 3
   },
   "file_extension": ".py",
   "mimetype": "text/x-python",
   "name": "python",
   "nbconvert_exporter": "python",
   "pygments_lexer": "ipython3",
   "version": "3.5.2"
  }
 },
 "nbformat": 4,
 "nbformat_minor": 0
}
